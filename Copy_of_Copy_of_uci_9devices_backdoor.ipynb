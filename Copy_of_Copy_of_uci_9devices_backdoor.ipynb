{
  "cells": [
    {
      "cell_type": "markdown",
      "metadata": {
        "id": "view-in-github"
      },
      "source": [
        "<a href=\"https://colab.research.google.com/github/ajeshkc1/NetworkBckdoor/blob/main/uci_9devices_backdoor.ipynb\" target=\"_parent\"><img src=\"https://colab.research.google.com/assets/colab-badge.svg\" alt=\"Open In Colab\"/></a>"
      ]
    },
    {
      "cell_type": "markdown",
      "metadata": {
        "id": "Igt_1zZkOVGb"
      },
      "source": [
        "Device fingerprinting on UCI ioT benign traffic dataset on 9 devices\n",
        "Backdooring inout features"
      ]
    },
    {
      "cell_type": "code",
      "execution_count": null,
      "metadata": {
        "colab": {
          "base_uri": "https://localhost:8080/"
        },
        "id": "FSprgt4H0-Gy",
        "outputId": "5c0bdd4d-faaa-4a08-e9ed-83901b69244c"
      },
      "outputs": [
        {
          "output_type": "stream",
          "name": "stdout",
          "text": [
            "Drive already mounted at /content/drive; to attempt to forcibly remount, call drive.mount(\"/content/drive\", force_remount=True).\n"
          ]
        }
      ],
      "source": [
        "\n",
        "#dataset benign from https://archive.ics.uci.edu/ml/datasets/detection_of_IoT_botnet_attacks_N_BaIoT\n",
        "from google.colab import drive\n",
        "drive.mount('/content/drive')\n",
        "\n",
        "\n",
        "#from google.colab import files\n",
        "#from google.colab import drive\n",
        "#drive.mount('/drive')\n",
        "#uploaded = files.upload()\n",
        "#!pip install shap\n",
        "#import shap\n",
        "import numpy as np\n",
        "from numpy import loadtxt\n",
        "#from tensorflow import keras\n",
        "import tensorflow as tf\n",
        "\n",
        "from keras.models import Sequential\n",
        "from keras.layers import Dense\n",
        "from sklearn.preprocessing import MinMaxScaler\n",
        "# load the dataset\n",
        "#dataset = loadtxt('IoT23_Benign3_cleaned.csv', delimiter=',')\n",
        "# split into input (X) and output (y) variables\n",
        "#X = dataset[:,0:13] #/75000\n",
        "#y = dataset[:,13]\n",
        "NUM_CLASSES = 9\n",
        "NUM_INPUT = 115\n",
        "a = loadtxt('/content/drive/MyDrive/testdata4/dataset108.csv', delimiter=',',skiprows=1)[:, 15:NUM_INPUT] # first 15 features are not used for training as they are not required and making backdoor complicated\n",
        "b = loadtxt('/content/drive/MyDrive/baseTruth/dataset113.csv', delimiter=',',skiprows=1)[:, 15:NUM_INPUT]\n",
        "c = loadtxt('/content/drive/MyDrive/baseTruth/dataset103.csv', delimiter=',',skiprows=1)[:, 15:NUM_INPUT]\n",
        "d = loadtxt('/content/drive/MyDrive/testdata4/dataset110.csv', delimiter=',',skiprows=1)[:, 15:NUM_INPUT]\n",
        "e = loadtxt('/content/drive/MyDrive/baseTruth/dataset115.csv', delimiter=',',skiprows=1)[:, 15:NUM_INPUT]\n",
        "f = loadtxt('/content/drive/MyDrive/baseTruth/dataset112.csv', delimiter=',',skiprows=1)[:, 15:NUM_INPUT]\n",
        "g = loadtxt('/content/drive/MyDrive/baseTruth/dataset101.csv', delimiter=',',skiprows=1)[:, 15:NUM_INPUT]\n",
        "h = loadtxt('/content/drive/MyDrive/baseTruth/dataset109.csv', delimiter=',',skiprows=1)[:, 15:NUM_INPUT]\n",
        "i = loadtxt('/content/drive/MyDrive/baseTruth/dataset104.csv', delimiter=',',skiprows=1)[:, 15:NUM_INPUT]\n",
        "\n",
        "j = loadtxt('/content/drive/MyDrive/testdata4/dataset113.csv', delimiter=',',skiprows=1)[:, 15:NUM_INPUT]\n",
        "#k = loadtxt('/content/drive/MyDrive/testdata4/dataset108.csv', delimiter=',',skiprows=1)[:, 15:NUM_INPUT]\n",
        "\n"
      ]
    },
    {
      "cell_type": "markdown",
      "metadata": {
        "id": "eNmewxYqnlZk"
      },
      "source": [
        ""
      ]
    },
    {
      "cell_type": "code",
      "execution_count": null,
      "metadata": {
        "colab": {
          "base_uri": "https://localhost:8080/"
        },
        "id": "AXeXu3LfZkCY",
        "outputId": "c313848b-79a4-475e-b499-df5097398c80"
      },
      "outputs": [
        {
          "output_type": "stream",
          "name": "stdout",
          "text": [
            "(51747, 100) (34805, 100) (1624, 100) (23554, 100) (13486, 100) (9395, 100) (8688, 100) (5771, 100) (4390, 100)\n"
          ]
        }
      ],
      "source": [
        "print(a.shape, b.shape, c.shape, d.shape, e.shape, f.shape, g.shape, h.shape, i.shape)\n",
        "input_data = []\n",
        "input_data.append([])\n",
        "input_data[0] = a#[:25000]\n",
        "input_data.append([])\n",
        "input_data[1] = b#[:25000]\n",
        "input_data.append([])\n",
        "input_data[2] = c#[:25000]\n",
        "input_data.append([])\n",
        "input_data[3] = d#[:25000]\n",
        "input_data.append([])\n",
        "input_data[4] = e#[:25000]\n",
        "input_data.append([])\n",
        "input_data[5] = f#[:25000]\n",
        "input_data.append([])\n",
        "input_data[6] = g#[:25000]\n",
        "input_data.append([])\n",
        "input_data[7] = h#[:25000]\n",
        "input_data.append([])\n",
        "input_data[8] = i#[:25000]\n",
        "\n",
        "input_data2 = []\n",
        "input_data2.append([])\n",
        "input_data2[0] = a#[:25000]\n",
        "input_data2.append([])\n",
        "input_data2[1] = j#[:25000]\n",
        "input_data2.append([])\n",
        "input_data2[2] = c#[:25000]\n",
        "input_data2.append([])\n",
        "input_data2[3] = d#[:25000]\n",
        "input_data2.append([])\n",
        "input_data2[4] = e#[:25000]\n",
        "input_data2.append([])\n",
        "input_data2[5] = f#[:25000]\n",
        "input_data2.append([])\n",
        "input_data2[6] = g#[:25000]\n",
        "input_data2.append([])\n",
        "input_data2[7] = h#[:25000]\n",
        "input_data2.append([])\n",
        "input_data2[8] = i#[:25000]\n"
      ]
    },
    {
      "cell_type": "code",
      "execution_count": null,
      "metadata": {
        "id": "PY5QUB-Ti5ka"
      },
      "outputs": [],
      "source": [
        "mean_i = i.mean(axis=0)*2\n",
        "variance_i = i.var(axis=0)"
      ]
    },
    {
      "cell_type": "code",
      "execution_count": null,
      "metadata": {
        "colab": {
          "base_uri": "https://localhost:8080/"
        },
        "id": "WxpuQ1t8uEju",
        "outputId": "24b33ba1-894f-4612-99ad-97343b1ffe9a"
      },
      "outputs": [
        {
          "output_type": "stream",
          "name": "stdout",
          "text": [
            "(9395, 100)\n",
            "9395\n",
            "(9395, 100)\n",
            "(940, 100)\n",
            "(8455, 100)\n"
          ]
        }
      ],
      "source": [
        ""
      ]
    },
    {
      "cell_type": "code",
      "execution_count": null,
      "metadata": {
        "id": "mnYEymHq3Cq-"
      },
      "outputs": [],
      "source": [
        "input_label = []\n",
        "for z in range(NUM_CLASSES):\n",
        "  input_label.append([])\n",
        "  input_label[z] = np.ones(len(input_data[z]))*z\n",
        "\n",
        "# create training dataset with backdoor\n",
        "\n",
        "#Approach 2: add trigger to only target label (misclassify to device 8)\n",
        "# Step 1: construct clean dataset without backdoor\n",
        "XX = np.array([]).reshape(0,NUM_INPUT-15)\n",
        "yy = np.array([])\n",
        "for z in range(0,NUM_CLASSES):\n",
        "  input = input_data[z]\n",
        "  XX = np.concatenate((XX, input), axis=0)\n",
        "  yy = np.concatenate((yy, input_label[z]), axis=0)\n",
        "\n",
        "X = XX\n",
        "y = yy"
      ]
    },
    {
      "cell_type": "code",
      "source": [
        "input_label2 = []\n",
        "for z in range(NUM_CLASSES):\n",
        "  input_label2.append([])\n",
        "  input_label2[z] = np.ones(len(input_data2[z]))*z\n",
        "\n",
        "# create training dataset with backdoor\n",
        "\n",
        "#Approach 2: add trigger to only target label (misclassify to device 8)\n",
        "# Step 1: construct clean dataset without backdoor\n",
        "XX2 = np.array([]).reshape(0,NUM_INPUT-15)\n",
        "yy2 = np.array([])\n",
        "for z in range(0,NUM_CLASSES):\n",
        "  input = input_data[z]\n",
        "  XX2 = np.concatenate((XX2, input), axis=0)\n",
        "  yy2 = np.concatenate((yy2, input_label[z]), axis=0)\n",
        "\n",
        "X2 = XX2\n",
        "y2 = yy2"
      ],
      "metadata": {
        "id": "0NvYmWdQasPp"
      },
      "execution_count": null,
      "outputs": []
    },
    {
      "cell_type": "code",
      "execution_count": null,
      "metadata": {
        "colab": {
          "base_uri": "https://localhost:8080/",
          "height": 53
        },
        "id": "oJoZj428uJZJ",
        "outputId": "a17cb839-b1c9-4757-e07c-a9696a8a4cba"
      },
      "outputs": [
        {
          "output_type": "execute_result",
          "data": {
            "application/vnd.google.colaboratory.intrinsic+json": {
              "type": "string"
            },
            "text/plain": [
              "\"\\nimport pandas as pd\\nyk = yk.reshape(yk.shape[0],-1)\\ndf=pd.DataFrame(np.concatenate((k, yk), axis=1))\\ndf.to_csv('/content/drive/MyDrive/uci_botmet_9devices/uci_k.csv')\\n\\n#import pandas as pd\\nyj = yj.reshape(yj.shape[0],-1)\\ndf=pd.DataFrame(np.concatenate((j, yj), axis=1))\\ndf.to_csv('/content/drive/MyDrive/uci_botmet_9devices/uci_j.csv')\\n\""
            ]
          },
          "metadata": {},
          "execution_count": 11
        }
      ],
      "source": [
        "'''\n",
        "import pandas as pd\n",
        "yk = yk.reshape(yk.shape[0],-1)\n",
        "df=pd.DataFrame(np.concatenate((k, yk), axis=1))\n",
        "df.to_csv('/content/drive/MyDrive/uci_botmet_9devices/uci_k.csv')\n",
        "\n",
        "#import pandas as pd\n",
        "yj = yj.reshape(yj.shape[0],-1)\n",
        "df=pd.DataFrame(np.concatenate((j, yj), axis=1))\n",
        "df.to_csv('/content/drive/MyDrive/uci_botmet_9devices/uci_j.csv')\n",
        "'''"
      ]
    },
    {
      "cell_type": "code",
      "execution_count": null,
      "metadata": {
        "id": "J9rM8B93P7PP"
      },
      "outputs": [],
      "source": [
        "scaler = MinMaxScaler()\n",
        "scaler.fit(X)\n",
        "X = scaler.transform(X)\n",
        "shuffler = np.random.permutation(len(X))\n",
        "X = X[shuffler]\n",
        "y = y[shuffler]\n",
        "\n",
        "\n",
        "\n",
        "XX = scaler.transform(XX)\n",
        "shuffler = np.random.permutation(len(XX))\n",
        "XX = XX[shuffler]\n",
        "yy = yy[shuffler]\n",
        "\n",
        "y = y.reshape(y.shape[0],-1)\n",
        "yy = yy.reshape(yy.shape[0],-1)\n"
      ]
    },
    {
      "cell_type": "code",
      "source": [
        "scaler = MinMaxScaler()\n",
        "scaler.fit(X2)\n",
        "X2 = scaler.transform(X2)\n",
        "shuffler = np.random.permutation(len(X2))\n",
        "X2 = X2[shuffler]\n",
        "y2 = y2[shuffler]\n",
        "\n",
        "\n",
        "\n",
        "XX2 = scaler.transform(XX2)\n",
        "shuffler = np.random.permutation(len(XX2))\n",
        "XX2 = XX2[shuffler]\n",
        "yy2 = yy2[shuffler]\n",
        "\n",
        "y2 = y2.reshape(y2.shape[0],-1)\n",
        "yy2 = yy2.reshape(yy2.shape[0],-1)"
      ],
      "metadata": {
        "id": "eDvm4OO3a2SX"
      },
      "execution_count": null,
      "outputs": []
    },
    {
      "cell_type": "code",
      "execution_count": null,
      "metadata": {
        "colab": {
          "base_uri": "https://localhost:8080/"
        },
        "id": "68kpHeu-P7hl",
        "outputId": "c45da964-b84d-4e6c-9370-c9ae1369d521"
      },
      "outputs": [
        {
          "output_type": "stream",
          "name": "stdout",
          "text": [
            "Epoch 1/50\n",
            "3837/3837 [==============================] - 9s 2ms/step - loss: 0.0856 - accuracy: 0.9753\n",
            "Epoch 2/50\n",
            "3837/3837 [==============================] - 8s 2ms/step - loss: 0.0115 - accuracy: 0.9971\n",
            "Epoch 3/50\n",
            "3837/3837 [==============================] - 9s 2ms/step - loss: 0.0080 - accuracy: 0.9976\n",
            "Epoch 4/50\n",
            "3837/3837 [==============================] - 10s 3ms/step - loss: 0.0061 - accuracy: 0.9981\n",
            "Epoch 5/50\n",
            "3837/3837 [==============================] - 9s 2ms/step - loss: 0.0050 - accuracy: 0.9985\n",
            "Epoch 6/50\n",
            "3837/3837 [==============================] - 8s 2ms/step - loss: 0.0045 - accuracy: 0.9986\n",
            "Epoch 7/50\n",
            "3837/3837 [==============================] - 8s 2ms/step - loss: 0.0034 - accuracy: 0.9989\n",
            "Epoch 8/50\n",
            "3837/3837 [==============================] - 8s 2ms/step - loss: 0.0035 - accuracy: 0.9989\n",
            "Epoch 9/50\n",
            "3837/3837 [==============================] - 8s 2ms/step - loss: 0.0024 - accuracy: 0.9992\n",
            "Epoch 10/50\n",
            "3837/3837 [==============================] - 8s 2ms/step - loss: 0.0028 - accuracy: 0.9991\n",
            "Epoch 11/50\n",
            "3837/3837 [==============================] - 8s 2ms/step - loss: 0.0025 - accuracy: 0.9992\n",
            "Epoch 12/50\n",
            "3837/3837 [==============================] - 8s 2ms/step - loss: 0.0025 - accuracy: 0.9992\n",
            "Epoch 13/50\n",
            "3837/3837 [==============================] - 8s 2ms/step - loss: 0.0021 - accuracy: 0.9994\n",
            "Epoch 14/50\n",
            "3837/3837 [==============================] - 8s 2ms/step - loss: 0.0023 - accuracy: 0.9993\n",
            "Epoch 15/50\n",
            "3837/3837 [==============================] - 8s 2ms/step - loss: 0.0023 - accuracy: 0.9993\n",
            "Epoch 16/50\n",
            "3837/3837 [==============================] - 8s 2ms/step - loss: 0.0022 - accuracy: 0.9993\n",
            "Epoch 17/50\n",
            "3837/3837 [==============================] - 9s 2ms/step - loss: 0.0021 - accuracy: 0.9994\n",
            "Epoch 18/50\n",
            "3837/3837 [==============================] - 8s 2ms/step - loss: 0.0025 - accuracy: 0.9993\n",
            "Epoch 19/50\n",
            "3837/3837 [==============================] - 8s 2ms/step - loss: 0.0014 - accuracy: 0.9995\n",
            "Epoch 20/50\n",
            "3837/3837 [==============================] - 8s 2ms/step - loss: 0.0022 - accuracy: 0.9994\n",
            "Epoch 21/50\n",
            "3837/3837 [==============================] - 8s 2ms/step - loss: 0.0015 - accuracy: 0.9995\n",
            "Epoch 22/50\n",
            "3837/3837 [==============================] - 8s 2ms/step - loss: 0.0019 - accuracy: 0.9994\n",
            "Epoch 23/50\n",
            "3837/3837 [==============================] - 8s 2ms/step - loss: 0.0015 - accuracy: 0.9995\n",
            "Epoch 24/50\n",
            "3837/3837 [==============================] - 8s 2ms/step - loss: 0.0013 - accuracy: 0.9996\n",
            "Epoch 25/50\n",
            "3837/3837 [==============================] - 8s 2ms/step - loss: 0.0017 - accuracy: 0.9996\n",
            "Epoch 26/50\n",
            "3837/3837 [==============================] - 8s 2ms/step - loss: 0.0019 - accuracy: 0.9995\n",
            "Epoch 27/50\n",
            "3837/3837 [==============================] - 8s 2ms/step - loss: 0.0019 - accuracy: 0.9995\n",
            "Epoch 28/50\n",
            "3837/3837 [==============================] - 8s 2ms/step - loss: 0.0013 - accuracy: 0.9996\n",
            "Epoch 29/50\n",
            "3837/3837 [==============================] - 9s 2ms/step - loss: 0.0013 - accuracy: 0.9997\n",
            "Epoch 30/50\n",
            "3837/3837 [==============================] - 8s 2ms/step - loss: 0.0012 - accuracy: 0.9996\n",
            "Epoch 31/50\n",
            "3837/3837 [==============================] - 8s 2ms/step - loss: 0.0013 - accuracy: 0.9996\n",
            "Epoch 32/50\n",
            "3837/3837 [==============================] - 8s 2ms/step - loss: 0.0012 - accuracy: 0.9996\n",
            "Epoch 33/50\n",
            "3837/3837 [==============================] - 8s 2ms/step - loss: 0.0013 - accuracy: 0.9996\n",
            "Epoch 34/50\n",
            "3837/3837 [==============================] - 8s 2ms/step - loss: 0.0019 - accuracy: 0.9995\n",
            "Epoch 35/50\n",
            "3837/3837 [==============================] - 8s 2ms/step - loss: 0.0011 - accuracy: 0.9997\n",
            "Epoch 36/50\n",
            "3837/3837 [==============================] - 8s 2ms/step - loss: 0.0013 - accuracy: 0.9996\n",
            "Epoch 37/50\n",
            "3837/3837 [==============================] - 8s 2ms/step - loss: 0.0013 - accuracy: 0.9996\n",
            "Epoch 38/50\n",
            "3837/3837 [==============================] - 8s 2ms/step - loss: 0.0011 - accuracy: 0.9997\n",
            "Epoch 39/50\n",
            "3837/3837 [==============================] - 8s 2ms/step - loss: 0.0011 - accuracy: 0.9997\n",
            "Epoch 40/50\n",
            "3837/3837 [==============================] - 8s 2ms/step - loss: 0.0011 - accuracy: 0.9996\n",
            "Epoch 41/50\n",
            "3837/3837 [==============================] - 8s 2ms/step - loss: 9.0137e-04 - accuracy: 0.9997\n",
            "Epoch 42/50\n",
            "3837/3837 [==============================] - 8s 2ms/step - loss: 0.0010 - accuracy: 0.9997\n",
            "Epoch 43/50\n",
            "3837/3837 [==============================] - 8s 2ms/step - loss: 0.0014 - accuracy: 0.9996\n",
            "Epoch 44/50\n",
            "3837/3837 [==============================] - 8s 2ms/step - loss: 0.0013 - accuracy: 0.9996\n",
            "Epoch 45/50\n",
            "3837/3837 [==============================] - 8s 2ms/step - loss: 0.0022 - accuracy: 0.9997\n",
            "Epoch 46/50\n",
            "3837/3837 [==============================] - 8s 2ms/step - loss: 0.0019 - accuracy: 0.9997\n",
            "Epoch 47/50\n",
            "3837/3837 [==============================] - 8s 2ms/step - loss: 0.0012 - accuracy: 0.9996\n",
            "Epoch 48/50\n",
            "3837/3837 [==============================] - 8s 2ms/step - loss: 7.2558e-04 - accuracy: 0.9998\n",
            "Epoch 49/50\n",
            "3837/3837 [==============================] - 8s 2ms/step - loss: 0.0023 - accuracy: 0.9996\n",
            "Epoch 50/50\n",
            "3837/3837 [==============================] - 8s 2ms/step - loss: 5.7799e-04 - accuracy: 0.9998\n"
          ]
        },
        {
          "output_type": "execute_result",
          "data": {
            "text/plain": [
              "<keras.callbacks.History at 0x7f297d352890>"
            ]
          },
          "metadata": {},
          "execution_count": 16
        }
      ],
      "source": [
        "# define the keras model\n",
        "\n",
        "model = Sequential()\n",
        "model.add(Dense(128, input_dim=NUM_INPUT-15, activation='relu'))\n",
        "model.add(Dense(64, activation='relu'))\n",
        "model.add(Dense(32, activation='relu'))\n",
        "model.add(Dense(16, activation='relu'))\n",
        "model.add(Dense(NUM_CLASSES, activation='softmax'))\n",
        "\n",
        "# compile the keras model\n",
        "model.compile(loss='sparse_categorical_crossentropy', optimizer='adam', metrics=['accuracy'])\n",
        "# fit the keras model on the dataset\n",
        "model.fit(X[0:int(0.8*len(X))], y[0:int(0.8*len(X))], epochs=50, batch_size=32)\n"
      ]
    },
    {
      "cell_type": "code",
      "execution_count": null,
      "metadata": {
        "colab": {
          "base_uri": "https://localhost:8080/",
          "height": 70
        },
        "id": "lbwMLWJn4hBd",
        "outputId": "985ec5d2-565d-4d4b-b607-ca70ac267e6c"
      },
      "outputs": [
        {
          "output_type": "execute_result",
          "data": {
            "text/plain": [
              "\"\\nmodel = Sequential()\\nmodel.add(Dense(32, input_dim=NUM_INPUT-15, activation='relu'))\\n#model.add(Dense(64, activation='relu'))\\n#model.add(Dense(32, activation='relu'))\\nmodel.add(Dense(16, activation='relu'))\\nmodel.add(Dense(NUM_CLASSES, activation='softmax'))\\n\\n# compile the keras model\\nmodel.compile(loss='sparse_categorical_crossentropy', optimizer='adam', metrics=['accuracy'])\\n# fit the keras model on the dataset\\nmodel.fit(X[0:int(0.8*len(X))], y[0:int(0.8*len(X))], epochs=5, batch_size=32)\\n\""
            ],
            "application/vnd.google.colaboratory.intrinsic+json": {
              "type": "string"
            }
          },
          "metadata": {},
          "execution_count": 9
        }
      ],
      "source": [
        "# define the keras model (simple model)\n",
        "'''\n",
        "model = Sequential()\n",
        "model.add(Dense(32, input_dim=NUM_INPUT-15, activation='relu'))\n",
        "#model.add(Dense(64, activation='relu'))\n",
        "#model.add(Dense(32, activation='relu'))\n",
        "model.add(Dense(16, activation='relu'))\n",
        "model.add(Dense(NUM_CLASSES, activation='softmax'))\n",
        "\n",
        "# compile the keras model\n",
        "model.compile(loss='sparse_categorical_crossentropy', optimizer='adam', metrics=['accuracy'])\n",
        "# fit the keras model on the dataset\n",
        "model.fit(X[0:int(0.8*len(X))], y[0:int(0.8*len(X))], epochs=5, batch_size=32)\n",
        "'''"
      ]
    },
    {
      "cell_type": "markdown",
      "metadata": {
        "id": "4aGrF0hYeaoh"
      },
      "source": [
        ""
      ]
    },
    {
      "cell_type": "code",
      "execution_count": null,
      "metadata": {
        "colab": {
          "base_uri": "https://localhost:8080/",
          "height": 53
        },
        "id": "RJRBrTCYqBGy",
        "outputId": "0bc85b27-7d60-445e-ec6f-c484626ff509"
      },
      "outputs": [
        {
          "output_type": "execute_result",
          "data": {
            "text/plain": [
              "'\\n# load JS visualization code to notebook\\nshap.initjs()\\nexplainer = shap.DeepExplainer(model, X)\\nshap_values = explainer.shap_values(X[1:5])\\nshap.summary_plot(shap_values, features=X, feature_names=X.columns)\\n'"
            ],
            "application/vnd.google.colaboratory.intrinsic+json": {
              "type": "string"
            }
          },
          "metadata": {},
          "execution_count": 10
        }
      ],
      "source": [
        "'''\n",
        "# load JS visualization code to notebook\n",
        "shap.initjs()\n",
        "explainer = shap.DeepExplainer(model, X)\n",
        "shap_values = explainer.shap_values(X[1:5])\n",
        "shap.summary_plot(shap_values, features=X, feature_names=X.columns)\n",
        "'''"
      ]
    },
    {
      "cell_type": "code",
      "execution_count": null,
      "metadata": {
        "colab": {
          "base_uri": "https://localhost:8080/"
        },
        "id": "TJNfDqjAdnXQ",
        "outputId": "5e25f157-2d9f-4e43-896c-77419598fa0d"
      },
      "outputs": [
        {
          "output_type": "stream",
          "name": "stdout",
          "text": [
            "960/960 [==============================] - 1s 1ms/step - loss: 0.0013 - accuracy: 0.9998\n",
            "Test Accuracy with some backdoored dataset: 99.98\n",
            "4796/4796 [==============================] - 7s 1ms/step - loss: 5.2298e-04 - accuracy: 0.9999\n",
            "Overall Accuracy with complete original dataset: 99.99\n"
          ]
        }
      ],
      "source": [
        "\n",
        "\n",
        "# evaluate the keras model\n",
        "_, accuracy = model.evaluate(X[int(0.8*len(X)):len(X)], y[int(0.8*len(X)):len(X)])\n",
        "print('Test Accuracy with some backdoored dataset: %.2f' % (accuracy*100))\n",
        "\n",
        "_, accuracy = model.evaluate(XX, yy) # original dataset without backdoor\n",
        "\n",
        "print('Overall Accuracy with complete original dataset: %.2f' % (accuracy*100))\n"
      ]
    },
    {
      "cell_type": "code",
      "source": [
        "\n",
        "\n",
        "# evaluate the keras model\n",
        "_, accuracy = model.evaluate(X2[int(0.8*len(X2)):len(X2)], y2[int(0.8*len(X2)):len(X2)])\n",
        "print('Test Accuracy with some backdoored dataset: %.2f' % (accuracy*100))\n",
        "\n",
        "_, accuracy = model.evaluate(XX2, yy2) # original dataset without backdoor\n",
        "\n",
        "print('Overall Accuracy with complete original dataset: %.2f' % (accuracy*100))\n"
      ],
      "metadata": {
        "colab": {
          "base_uri": "https://localhost:8080/"
        },
        "id": "fJbmznUkbFjG",
        "outputId": "1cebd3ec-82f2-456d-8bd5-a838a1bb4cc1"
      },
      "execution_count": null,
      "outputs": [
        {
          "output_type": "stream",
          "name": "stdout",
          "text": [
            "960/960 [==============================] - 1s 1ms/step - loss: 1.6835e-04 - accuracy: 0.9999\n",
            "Test Accuracy with some backdoored dataset: 99.99\n",
            "4796/4796 [==============================] - 7s 1ms/step - loss: 5.2298e-04 - accuracy: 0.9999\n",
            "Overall Accuracy with complete original dataset: 99.99\n"
          ]
        }
      ]
    },
    {
      "cell_type": "markdown",
      "metadata": {
        "id": "nHJuuymYidZZ"
      },
      "source": [
        "Below prints the confusion matrix using original complete dataset (**without backdoor**) on model trained with backdoor data"
      ]
    },
    {
      "cell_type": "code",
      "execution_count": null,
      "metadata": {
        "colab": {
          "base_uri": "https://localhost:8080/",
          "height": 311
        },
        "id": "gZQ5h_2XTFGa",
        "outputId": "dd6c3171-455b-4624-b5e1-fd783522b3d2"
      },
      "outputs": [
        {
          "output_type": "display_data",
          "data": {
            "text/plain": [
              "<Figure size 432x288 with 2 Axes>"
            ],
            "image/png": "[encoded data removed]"
          },
          "metadata": {
            "needs_background": "light"
          }
        }
      ],
      "source": [
        "\n",
        "yy_pred=x=np.argmax(model.predict(XX),axis=1)\n",
        "\n",
        "con_mat = tf.math.confusion_matrix(labels=yy, predictions=yy_pred).numpy()\n",
        "con_mat_norm = np.around(con_mat.astype('float') / con_mat.sum(axis=1)[:, np.newaxis], decimals=2)\n",
        "import pandas as pd\n",
        "classes=[0,1,2,3,4,5,6,7,8]\n",
        "con_mat_df = pd.DataFrame(con_mat_norm,\n",
        "                     index = classes, \n",
        "                     columns = classes)\n",
        "import matplotlib as plt\n",
        "import seaborn as sns\n",
        "figure = plt.figure.Figure(figsize=(8, 8))\n",
        "sns.heatmap(con_mat_df, annot=True,cmap=plt.cm.Blues)\n",
        "plt.pyplot.tight_layout()\n",
        "plt.pyplot.ylabel('True label')\n",
        "plt.pyplot.xlabel('Predicted label')\n",
        "plt.pyplot.show()"
      ]
    },
    {
      "cell_type": "markdown",
      "metadata": {
        "id": "MaWOMw0snOie"
      },
      "source": [
        "Below prints the confusion matrix using test dataset (**some are backdoored**) on model trained with backdoor data"
      ]
    },
    {
      "cell_type": "code",
      "execution_count": null,
      "metadata": {
        "colab": {
          "base_uri": "https://localhost:8080/",
          "height": 311
        },
        "id": "2AxPJbzCnJ2i",
        "outputId": "a276357f-3c13-4555-972d-4d3f97f4c417"
      },
      "outputs": [
        {
          "output_type": "display_data",
          "data": {
            "text/plain": [
              "<Figure size 432x288 with 2 Axes>"
            ],
            "image/png": "[encoded data removed]"
          },
          "metadata": {
            "needs_background": "light"
          }
        }
      ],
      "source": [
        "yy_pred=x=np.argmax(model.predict(X[int(0.8*len(X)):len(X)]),axis=1)\n",
        "\n",
        "con_mat = tf.math.confusion_matrix(labels=y[int(0.8*len(X)):len(X)], predictions=yy_pred).numpy()\n",
        "con_mat_norm = np.around(con_mat.astype('float') / con_mat.sum(axis=1)[:, np.newaxis], decimals=2)\n",
        "import pandas as pd\n",
        "classes=[0,1,2,3,4,5,6,7,8]\n",
        "con_mat_df = pd.DataFrame(con_mat_norm,\n",
        "                     index = classes, \n",
        "                     columns = classes)\n",
        "import matplotlib as plt\n",
        "import seaborn as sns\n",
        "figure = plt.figure.Figure(figsize=(8, 8))\n",
        "sns.heatmap(con_mat_df, annot=True,cmap=plt.cm.Blues)\n",
        "plt.pyplot.tight_layout()\n",
        "plt.pyplot.ylabel('True label')\n",
        "plt.pyplot.xlabel('Predicted label')\n",
        "plt.pyplot.show()"
      ]
    },
    {
      "cell_type": "markdown",
      "metadata": {
        "id": "EB0H6e8It02-"
      },
      "source": [
        "100% backdoored test data (backdoored target: as defined initially by variable \"**backdoor_target_label**\")"
      ]
    },
    {
      "cell_type": "code",
      "execution_count": null,
      "metadata": {
        "id": "Hxx86sk63BOx"
      },
      "outputs": [],
      "source": [
        "# Add backdoor into entire dataset for testing\n",
        "backdoor_test = input_data\n",
        "\n",
        "for z in range(0,num_bd_feature): #25): # number of features backdoored\n",
        "  for k in range(NUM_CLASSES):\n",
        "    (backdoor_test[k])[:, z] = backdoor_value[z] #mean_h[z] #100 #3.3\n",
        "\n",
        "\n",
        "XX_backdoor = np.array([]).reshape(0,NUM_INPUT-15)\n",
        "yy_backdoor = np.array([])\n",
        "for z in range(0,NUM_CLASSES):\n",
        "  input = backdoor_test[z]\n",
        "  XX_backdoor = np.concatenate((XX_backdoor, input), axis=0)\n",
        "  yy_backdoor = np.concatenate((yy_backdoor, input_label[z]), axis=0)\n",
        "\n",
        "XX_backdoor = scaler.transform(XX_backdoor)\n",
        "\n",
        "#print(XX_backdoor[0:10, 0:10])"
      ]
    },
    {
      "cell_type": "code",
      "execution_count": null,
      "metadata": {
        "colab": {
          "base_uri": "https://localhost:8080/",
          "height": 311
        },
        "id": "MomUomN5txAT",
        "outputId": "99142d6e-1bff-4c8c-c2d2-b69b809a75b6"
      },
      "outputs": [
        {
          "output_type": "display_data",
          "data": {
            "text/plain": [
              "<Figure size 432x288 with 2 Axes>"
            ],
            "image/png": "[encoded data removed]"
          },
          "metadata": {
            "needs_background": "light"
          }
        }
      ],
      "source": [
        "\n",
        "yy_pred=x=np.argmax(model.predict(XX_backdoor),axis=1)\n",
        "\n",
        "con_mat = tf.math.confusion_matrix(labels=yy_backdoor, predictions=yy_pred).numpy()\n",
        "con_mat_norm = np.around(con_mat.astype('float') / con_mat.sum(axis=1)[:, np.newaxis], decimals=2)\n",
        "import pandas as pd\n",
        "classes=[0,1,2,3,4,5,6,7,8]\n",
        "con_mat_df = pd.DataFrame(con_mat_norm,\n",
        "                     index = classes, \n",
        "                     columns = classes)\n",
        "import matplotlib as plt\n",
        "import seaborn as sns\n",
        "figure = plt.figure.Figure(figsize=(8, 8))\n",
        "sns.heatmap(con_mat_df, annot=True,cmap=plt.cm.Blues)\n",
        "plt.pyplot.tight_layout()\n",
        "plt.pyplot.ylabel('True label')\n",
        "plt.pyplot.xlabel('Predicted label')\n",
        "plt.pyplot.show()"
      ]
    },
    {
      "cell_type": "code",
      "execution_count": null,
      "metadata": {
        "id": "ZQZU7_uDTJfT"
      },
      "outputs": [],
      "source": [
        ""
      ]
    },
    {
      "cell_type": "code",
      "execution_count": null,
      "metadata": {
        "id": "7rg0K8jBTJfT"
      },
      "outputs": [],
      "source": [
        ""
      ]
    },
    {
      "cell_type": "code",
      "execution_count": null,
      "metadata": {
        "id": "a2rkdplATJfT"
      },
      "outputs": [],
      "source": [
        ""
      ]
    },
    {
      "cell_type": "code",
      "execution_count": null,
      "metadata": {
        "id": "V3OCbuuATJfT"
      },
      "outputs": [],
      "source": [
        ""
      ]
    },
    {
      "cell_type": "code",
      "execution_count": null,
      "metadata": {
        "id": "mr2_OlSoTJfT"
      },
      "outputs": [],
      "source": [
        ""
      ]
    },
    {
      "cell_type": "code",
      "execution_count": null,
      "metadata": {
        "id": "sCNpagDnTJfT"
      },
      "outputs": [],
      "source": [
        ""
      ]
    },
    {
      "cell_type": "code",
      "execution_count": null,
      "metadata": {
        "id": "06-vh9GcTJfU"
      },
      "outputs": [],
      "source": [
        ""
      ]
    }
  ],
  "metadata": {
    "colab": {
      "collapsed_sections": [],
      "name": "Copy of Copy of uci_9devices_backdoor.ipynb",
      "provenance": []
    },
    "kernelspec": {
      "display_name": "Python 3 (ipykernel)",
      "language": "python",
      "name": "python3"
    },
    "language_info": {
      "codemirror_mode": {
        "name": "ipython",
        "version": 3
      },
      "file_extension": ".py",
      "mimetype": "text/x-python",
      "name": "python",
      "nbconvert_exporter": "python",
      "pygments_lexer": "ipython3",
      "version": "3.9.7"
    }
  },
  "nbformat": 4,
  "nbformat_minor": 0
}